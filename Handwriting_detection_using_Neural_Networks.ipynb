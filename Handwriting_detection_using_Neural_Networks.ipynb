{
  "cells": [
    {
      "cell_type": "markdown",
      "metadata": {
        "id": "wj5b9DhpojuH"
      },
      "source": [
        "## Problem 1:\n",
        "\n",
        "### Approximate the following function:\n",
        "$\\Large f ( x ) = 3x^2 + 4x - 9 $\n"
      ]
    },
    {
      "cell_type": "markdown",
      "metadata": {
        "id": "jUDjkCTUojuI"
      },
      "source": [
        "### Steps:\n",
        "1. Randomly generate the data. Generate at least 10,000 values for $x \\in [-100,100]$\n",
        "2. Plot the function\n",
        "3. Design a feed-forward network with 2 or more hidden layers. Choose the # of hidden units in each layer (what are the size of input and output layers?)\n",
        "4. Train the model (What loss function will be suitable here?)\n",
        "5. Generate a test data and present the test accuracy"
      ]
    },
    {
      "cell_type": "code",
      "source": [
        "import tensorflow as tf\n",
        "import numpy as np\n",
        "import matplotlib.pyplot as plt\n",
        "\n",
        "# Generate 10,000 random values for x in the range [-100, 100]\n",
        "x_train = np.random.uniform(low=-100, high=100, size=10000)\n",
        "\n",
        "# Define the function we want to approximate\n",
        "def f(x):\n",
        "    return 3*x**2 + 4*x - 9\n",
        "\n",
        "# Generate training labels for the function\n",
        "y_train = f(x_train)\n",
        "\n",
        "# Normalize the input data to have zero mean and unit variance\n",
        "x_mean = np.mean(x_train)\n",
        "x_std = np.std(x_train)\n",
        "x_train = (x_train - x_mean) / x_std\n",
        "\n",
        "# Define the neural network architecture\n",
        "model = tf.keras.Sequential([\n",
        "    tf.keras.layers.Dense(10, activation='relu', input_shape=(1,)),\n",
        "    tf.keras.layers.Dense(5, activation='relu'),\n",
        "    tf.keras.layers.Dense(1)\n",
        "])\n",
        "\n",
        "# Compile the model with mean squared error loss and stochastic gradient descent optimizer\n",
        "model.compile(loss='mean_squared_error', optimizer='adam',metrics=['mse'])\n",
        "\n",
        "# Train the model for 100 epochs with batch size of 32\n",
        "model.fit(x_train, y_train, epochs=100, batch_size=50)\n",
        "\n",
        "# Generate 1,000 random values for x in the range [-100, 100] for testing\n",
        "x_test = np.random.uniform(low=-100, high=100, size=1000)\n",
        "x_test_norm = (x_test - x_mean) / x_std\n",
        "\n",
        "# Evaluate the model on the test data\n",
        "test_loss, test_accuracy = model.evaluate(x_test_norm, f(x_test))\n",
        "\n",
        "print('Test loss:', test_loss)\n",
        "print('Test accuracy:', test_accuracy)\n",
        "\n",
        "# Plot the original function and the predicted function on the test data\n",
        "plt.plot(x_test, f(x_test), label='Original function')\n",
        "plt.plot(x_test, model.predict(x_test_norm), label='Predicted function')\n",
        "plt.legend()\n",
        "plt.show()\n"
      ],
      "metadata": {
        "colab": {
          "base_uri": "https://localhost:8080/",
          "height": 1000
        },
        "id": "SF8yyjf6y8uj",
        "outputId": "5e28bab6-8e5d-47ef-a201-93f26c476d8d"
      },
      "execution_count": null,
      "outputs": [
        {
          "output_type": "stream",
          "name": "stdout",
          "text": [
            "Epoch 1/100\n",
            "200/200 [==============================] - 1s 1ms/step - loss: 179420464.0000 - mse: 179420464.0000\n",
            "Epoch 2/100\n",
            "200/200 [==============================] - 0s 1ms/step - loss: 179330496.0000 - mse: 179330496.0000\n",
            "Epoch 3/100\n",
            "200/200 [==============================] - 0s 1ms/step - loss: 179055920.0000 - mse: 179055920.0000\n",
            "Epoch 4/100\n",
            "200/200 [==============================] - 0s 1ms/step - loss: 178407888.0000 - mse: 178407888.0000\n",
            "Epoch 5/100\n",
            "200/200 [==============================] - 0s 1ms/step - loss: 177173040.0000 - mse: 177173040.0000\n",
            "Epoch 6/100\n",
            "200/200 [==============================] - 0s 1ms/step - loss: 175299344.0000 - mse: 175299344.0000\n",
            "Epoch 7/100\n",
            "200/200 [==============================] - 0s 1ms/step - loss: 172746944.0000 - mse: 172746928.0000\n",
            "Epoch 8/100\n",
            "200/200 [==============================] - 0s 1ms/step - loss: 169494832.0000 - mse: 169494832.0000\n",
            "Epoch 9/100\n",
            "200/200 [==============================] - 0s 1ms/step - loss: 165548576.0000 - mse: 165548576.0000\n",
            "Epoch 10/100\n",
            "200/200 [==============================] - 0s 1ms/step - loss: 160942752.0000 - mse: 160942752.0000\n",
            "Epoch 11/100\n",
            "200/200 [==============================] - 0s 1ms/step - loss: 155745936.0000 - mse: 155745936.0000\n",
            "Epoch 12/100\n",
            "200/200 [==============================] - 0s 1ms/step - loss: 150028288.0000 - mse: 150028288.0000\n",
            "Epoch 13/100\n",
            "200/200 [==============================] - 0s 1ms/step - loss: 143869984.0000 - mse: 143869984.0000\n",
            "Epoch 14/100\n",
            "200/200 [==============================] - 0s 1ms/step - loss: 137380400.0000 - mse: 137380400.0000\n",
            "Epoch 15/100\n",
            "200/200 [==============================] - 0s 2ms/step - loss: 130687240.0000 - mse: 130687240.0000\n",
            "Epoch 16/100\n",
            "200/200 [==============================] - 0s 2ms/step - loss: 123902296.0000 - mse: 123902296.0000\n",
            "Epoch 17/100\n",
            "200/200 [==============================] - 0s 1ms/step - loss: 117139296.0000 - mse: 117139296.0000\n",
            "Epoch 18/100\n",
            "200/200 [==============================] - 0s 1ms/step - loss: 110528328.0000 - mse: 110528328.0000\n",
            "Epoch 19/100\n",
            "200/200 [==============================] - 0s 1ms/step - loss: 104199432.0000 - mse: 104199432.0000\n",
            "Epoch 20/100\n",
            "200/200 [==============================] - 0s 1ms/step - loss: 98233184.0000 - mse: 98233184.0000\n",
            "Epoch 21/100\n",
            "200/200 [==============================] - 0s 1ms/step - loss: 92707000.0000 - mse: 92707000.0000\n",
            "Epoch 22/100\n",
            "200/200 [==============================] - 0s 1ms/step - loss: 87659688.0000 - mse: 87659688.0000\n",
            "Epoch 23/100\n",
            "200/200 [==============================] - 0s 1ms/step - loss: 83112240.0000 - mse: 83112240.0000\n",
            "Epoch 24/100\n",
            "200/200 [==============================] - 0s 1ms/step - loss: 79046192.0000 - mse: 79046192.0000\n",
            "Epoch 25/100\n",
            "200/200 [==============================] - 0s 1ms/step - loss: 75402712.0000 - mse: 75402712.0000\n",
            "Epoch 26/100\n",
            "200/200 [==============================] - 0s 1ms/step - loss: 72063520.0000 - mse: 72063520.0000\n",
            "Epoch 27/100\n",
            "200/200 [==============================] - 0s 1ms/step - loss: 68937872.0000 - mse: 68937872.0000\n",
            "Epoch 28/100\n",
            "200/200 [==============================] - 0s 1ms/step - loss: 65944100.0000 - mse: 65944104.0000\n",
            "Epoch 29/100\n",
            "200/200 [==============================] - 0s 1ms/step - loss: 63038764.0000 - mse: 63038764.0000\n",
            "Epoch 30/100\n",
            "200/200 [==============================] - 0s 1ms/step - loss: 60210244.0000 - mse: 60210244.0000\n",
            "Epoch 31/100\n",
            "200/200 [==============================] - 0s 1ms/step - loss: 57457252.0000 - mse: 57457252.0000\n",
            "Epoch 32/100\n",
            "200/200 [==============================] - 0s 1ms/step - loss: 54790484.0000 - mse: 54790484.0000\n",
            "Epoch 33/100\n",
            "200/200 [==============================] - 0s 1ms/step - loss: 52211272.0000 - mse: 52211272.0000\n",
            "Epoch 34/100\n",
            "200/200 [==============================] - 0s 1ms/step - loss: 49723400.0000 - mse: 49723400.0000\n",
            "Epoch 35/100\n",
            "200/200 [==============================] - 0s 1ms/step - loss: 47339196.0000 - mse: 47339196.0000\n",
            "Epoch 36/100\n",
            "200/200 [==============================] - 0s 1ms/step - loss: 45060832.0000 - mse: 45060836.0000\n",
            "Epoch 37/100\n",
            "200/200 [==============================] - 0s 1ms/step - loss: 42883012.0000 - mse: 42883012.0000\n",
            "Epoch 38/100\n",
            "200/200 [==============================] - 0s 1ms/step - loss: 40801604.0000 - mse: 40801604.0000\n",
            "Epoch 39/100\n",
            "200/200 [==============================] - 0s 1ms/step - loss: 38818580.0000 - mse: 38818580.0000\n",
            "Epoch 40/100\n",
            "200/200 [==============================] - 0s 1ms/step - loss: 36926456.0000 - mse: 36926456.0000\n",
            "Epoch 41/100\n",
            "200/200 [==============================] - 0s 1ms/step - loss: 35130376.0000 - mse: 35130376.0000\n",
            "Epoch 42/100\n",
            "200/200 [==============================] - 0s 1ms/step - loss: 33422996.0000 - mse: 33422992.0000\n",
            "Epoch 43/100\n",
            "200/200 [==============================] - 0s 1ms/step - loss: 31808166.0000 - mse: 31808166.0000\n",
            "Epoch 44/100\n",
            "200/200 [==============================] - 0s 1ms/step - loss: 30285050.0000 - mse: 30285050.0000\n",
            "Epoch 45/100\n",
            "200/200 [==============================] - 0s 1ms/step - loss: 28845854.0000 - mse: 28845854.0000\n",
            "Epoch 46/100\n",
            "200/200 [==============================] - 0s 1ms/step - loss: 27488640.0000 - mse: 27488640.0000\n",
            "Epoch 47/100\n",
            "200/200 [==============================] - 0s 1ms/step - loss: 26207752.0000 - mse: 26207752.0000\n",
            "Epoch 48/100\n",
            "200/200 [==============================] - 0s 1ms/step - loss: 25004164.0000 - mse: 25004164.0000\n",
            "Epoch 49/100\n",
            "200/200 [==============================] - 0s 1ms/step - loss: 23881270.0000 - mse: 23881270.0000\n",
            "Epoch 50/100\n",
            "200/200 [==============================] - 0s 1ms/step - loss: 22835646.0000 - mse: 22835646.0000\n",
            "Epoch 51/100\n",
            "200/200 [==============================] - 0s 1ms/step - loss: 21863030.0000 - mse: 21863028.0000\n",
            "Epoch 52/100\n",
            "200/200 [==============================] - 0s 1ms/step - loss: 20955346.0000 - mse: 20955346.0000\n",
            "Epoch 53/100\n",
            "200/200 [==============================] - 0s 1ms/step - loss: 20102278.0000 - mse: 20102278.0000\n",
            "Epoch 54/100\n",
            "200/200 [==============================] - 0s 1ms/step - loss: 19303440.0000 - mse: 19303440.0000\n",
            "Epoch 55/100\n",
            "200/200 [==============================] - 0s 1ms/step - loss: 18552528.0000 - mse: 18552528.0000\n",
            "Epoch 56/100\n",
            "200/200 [==============================] - 0s 1ms/step - loss: 17847094.0000 - mse: 17847094.0000\n",
            "Epoch 57/100\n",
            "200/200 [==============================] - 0s 1ms/step - loss: 17181058.0000 - mse: 17181058.0000\n",
            "Epoch 58/100\n",
            "200/200 [==============================] - 0s 1ms/step - loss: 16546927.0000 - mse: 16546927.0000\n",
            "Epoch 59/100\n",
            "200/200 [==============================] - 0s 1ms/step - loss: 15946300.0000 - mse: 15946300.0000\n",
            "Epoch 60/100\n",
            "200/200 [==============================] - 0s 2ms/step - loss: 15374996.0000 - mse: 15374998.0000\n",
            "Epoch 61/100\n",
            "200/200 [==============================] - 0s 2ms/step - loss: 14832245.0000 - mse: 14832245.0000\n",
            "Epoch 62/100\n",
            "200/200 [==============================] - 0s 2ms/step - loss: 14314331.0000 - mse: 14314331.0000\n",
            "Epoch 63/100\n",
            "200/200 [==============================] - 0s 1ms/step - loss: 13817212.0000 - mse: 13817212.0000\n",
            "Epoch 64/100\n",
            "200/200 [==============================] - 0s 1ms/step - loss: 13341311.0000 - mse: 13341311.0000\n",
            "Epoch 65/100\n",
            "200/200 [==============================] - 0s 1ms/step - loss: 12882006.0000 - mse: 12882006.0000\n",
            "Epoch 66/100\n",
            "200/200 [==============================] - 0s 1ms/step - loss: 12435766.0000 - mse: 12435766.0000\n",
            "Epoch 67/100\n",
            "200/200 [==============================] - 0s 1ms/step - loss: 12002205.0000 - mse: 12002205.0000\n",
            "Epoch 68/100\n",
            "200/200 [==============================] - 0s 1ms/step - loss: 11578470.0000 - mse: 11578470.0000\n",
            "Epoch 69/100\n",
            "200/200 [==============================] - 0s 1ms/step - loss: 11161218.0000 - mse: 11161218.0000\n",
            "Epoch 70/100\n",
            "200/200 [==============================] - 0s 1ms/step - loss: 10751908.0000 - mse: 10751907.0000\n",
            "Epoch 71/100\n",
            "200/200 [==============================] - 0s 1ms/step - loss: 10353367.0000 - mse: 10353367.0000\n",
            "Epoch 72/100\n",
            "200/200 [==============================] - 0s 1ms/step - loss: 9962215.0000 - mse: 9962215.0000\n",
            "Epoch 73/100\n",
            "200/200 [==============================] - 0s 1ms/step - loss: 9581472.0000 - mse: 9581473.0000\n",
            "Epoch 74/100\n",
            "200/200 [==============================] - 0s 1ms/step - loss: 9209799.0000 - mse: 9209799.0000\n",
            "Epoch 75/100\n",
            "200/200 [==============================] - 0s 1ms/step - loss: 8848717.0000 - mse: 8848717.0000\n",
            "Epoch 76/100\n",
            "200/200 [==============================] - 0s 1ms/step - loss: 8496275.0000 - mse: 8496275.0000\n",
            "Epoch 77/100\n",
            "200/200 [==============================] - 0s 1ms/step - loss: 8156578.5000 - mse: 8156578.5000\n",
            "Epoch 78/100\n",
            "200/200 [==============================] - 0s 1ms/step - loss: 7826304.0000 - mse: 7826304.0000\n",
            "Epoch 79/100\n",
            "200/200 [==============================] - 0s 1ms/step - loss: 7506244.5000 - mse: 7506244.5000\n",
            "Epoch 80/100\n",
            "200/200 [==============================] - 0s 1ms/step - loss: 7195682.5000 - mse: 7195682.5000\n",
            "Epoch 81/100\n",
            "200/200 [==============================] - 0s 1ms/step - loss: 6894934.5000 - mse: 6894934.5000\n",
            "Epoch 82/100\n",
            "200/200 [==============================] - 0s 1ms/step - loss: 6605167.0000 - mse: 6605167.0000\n",
            "Epoch 83/100\n",
            "200/200 [==============================] - 0s 1ms/step - loss: 6326368.5000 - mse: 6326368.5000\n",
            "Epoch 84/100\n",
            "200/200 [==============================] - 0s 1ms/step - loss: 6058120.5000 - mse: 6058120.5000\n",
            "Epoch 85/100\n",
            "200/200 [==============================] - 0s 1ms/step - loss: 5799681.5000 - mse: 5799681.5000\n",
            "Epoch 86/100\n",
            "200/200 [==============================] - 0s 1ms/step - loss: 5552242.5000 - mse: 5552242.5000\n",
            "Epoch 87/100\n",
            "200/200 [==============================] - 0s 1ms/step - loss: 5313405.5000 - mse: 5313405.5000\n",
            "Epoch 88/100\n",
            "200/200 [==============================] - 0s 1ms/step - loss: 5084755.5000 - mse: 5084755.5000\n",
            "Epoch 89/100\n",
            "200/200 [==============================] - 0s 1ms/step - loss: 4867529.5000 - mse: 4867529.5000\n",
            "Epoch 90/100\n",
            "200/200 [==============================] - 0s 1ms/step - loss: 4658536.0000 - mse: 4658536.0000\n",
            "Epoch 91/100\n",
            "200/200 [==============================] - 0s 1ms/step - loss: 4459632.0000 - mse: 4459632.5000\n",
            "Epoch 92/100\n",
            "200/200 [==============================] - 0s 1ms/step - loss: 4269649.0000 - mse: 4269649.0000\n",
            "Epoch 93/100\n",
            "200/200 [==============================] - 0s 1ms/step - loss: 4088031.7500 - mse: 4088031.7500\n",
            "Epoch 94/100\n",
            "200/200 [==============================] - 0s 1ms/step - loss: 3914416.2500 - mse: 3914416.2500\n",
            "Epoch 95/100\n",
            "200/200 [==============================] - 0s 1ms/step - loss: 3747960.0000 - mse: 3747960.0000\n",
            "Epoch 96/100\n",
            "200/200 [==============================] - 0s 1ms/step - loss: 3589475.5000 - mse: 3589475.5000\n",
            "Epoch 97/100\n",
            "200/200 [==============================] - 0s 1ms/step - loss: 3439540.7500 - mse: 3439540.7500\n",
            "Epoch 98/100\n",
            "200/200 [==============================] - 0s 1ms/step - loss: 3296591.5000 - mse: 3296591.5000\n",
            "Epoch 99/100\n",
            "200/200 [==============================] - 0s 1ms/step - loss: 3160993.0000 - mse: 3160993.0000\n",
            "Epoch 100/100\n",
            "200/200 [==============================] - 0s 1ms/step - loss: 3032692.2500 - mse: 3032692.2500\n",
            "32/32 [==============================] - 0s 1ms/step - loss: 2797106.5000 - mse: 2797106.5000\n",
            "Test loss: 2797106.5\n",
            "Test accuracy: 2797106.5\n",
            "32/32 [==============================] - 0s 953us/step\n"
          ]
        },
        {
          "output_type": "display_data",
          "data": {
            "text/plain": [
              "<Figure size 432x288 with 1 Axes>"
            ],
            "image/png": "[encoded data removed]"
          },
          "metadata": {
            "needs_background": "light"
          }
        }
      ]
    },
    {
      "cell_type": "markdown",
      "metadata": {
        "id": "GBd32BEIojuI"
      },
      "source": [
        "## Problem 2:\n",
        "\n",
        "### Feedforward Network\n",
        "- Hidden layer 1\n",
        "- Input size 784 [28X28] image\n",
        "- Hidden layer units 500\n",
        "- Output size 10\n",
        "- Other Hyperparameters:\n",
        " - num_epochs = 5\n",
        " - batch_size = 100\n",
        " - learning_rate = 0.001\n",
        "\n",
        "### Try out different regularization and optimization techniques and vary the corresponding hyperparameters\n",
        "- Hidden layers/units per layer\n",
        "- L2 regularization\n",
        "- Dropout\n",
        "- RMSProp\n",
        "- Adam\n",
        "- Minibatches\n",
        "\n",
        "### Tabulate your findings"
      ]
    },
    {
      "cell_type": "code",
      "execution_count": null,
      "metadata": {
        "id": "GqsKRE-BojuJ"
      },
      "outputs": [],
      "source": [
        "import torch \n",
        "import torch.nn as nn\n",
        "import numpy as np\n",
        "\n",
        "\n",
        "import torchvision\n",
        "import torchvision.transforms as transforms"
      ]
    },
    {
      "cell_type": "code",
      "execution_count": null,
      "metadata": {
        "id": "mw1_aF15ojuJ"
      },
      "outputs": [],
      "source": [
        "input_size = 784\n",
        "hidden_size = 500\n",
        "num_classes = 10\n",
        "num_epochs = 5\n",
        "batch_size = 200\n",
        "learning_rate = 0.001"
      ]
    },
    {
      "cell_type": "markdown",
      "metadata": {
        "id": "KbbtZi55ojuJ"
      },
      "source": [
        "### Defining the network"
      ]
    },
    {
      "cell_type": "code",
      "execution_count": null,
      "metadata": {
        "id": "6D7EWlsPojuJ"
      },
      "outputs": [],
      "source": [
        "class NeuralNet(nn.Module):\n",
        "    def __init__(self, input_size, hidden_size, num_classes):\n",
        "        super(NeuralNet, self).__init__()\n",
        "        self.fc1 = nn.Linear(input_size, hidden_size) \n",
        "        # self.BatchNorm1d= nn.BatchNorm1d(hidden_size) ##[Optional batch normalization]\n",
        "        # self.dropout=nn.Dropout(0.25) ##[Optional dropout]\n",
        "        self.sigmoid = nn.Sigmoid()\n",
        "        self.fc2 = nn.Linear(hidden_size, num_classes)  \n",
        "        self.output = nn.Softmax() #nn.Linear if y is real-valued\n",
        "        self.float()\n",
        "    \n",
        "    def forward(self, x):\n",
        "        out = self.fc1(x)\n",
        "        out = self.sigmoid(out)\n",
        "        out = self.fc2(out)\n",
        "        out = self.output(out)\n",
        "        \n",
        "        return out"
      ]
    },
    {
      "cell_type": "markdown",
      "metadata": {
        "id": "ns91v7L6ojuK"
      },
      "source": [
        "### Loading the datasets"
      ]
    },
    {
      "cell_type": "markdown",
      "metadata": {
        "id": "ho5H5IClojuK"
      },
      "source": [
        "<i> \n",
        "#### Note: If the following code does not work, do the following:\n",
        "- open a terminal and enter\n",
        "- pip install ipywidgets\n",
        "- jupyter nbextension enable --py widgetsnbextension\n",
        "\n",
        "#### If the second line shows [OK], it should work </i>"
      ]
    },
    {
      "cell_type": "code",
      "execution_count": null,
      "metadata": {
        "id": "0XsTPIANojuK"
      },
      "outputs": [],
      "source": [
        "train_dataset = torchvision.datasets.MNIST(root='data', \n",
        "                                           train=True, \n",
        "                                           transform=transforms.ToTensor(),download=True)\n",
        "\n",
        "train_loader = torch.utils.data.DataLoader(dataset=train_dataset, \n",
        "                                           batch_size=batch_size, shuffle=True)"
      ]
    },
    {
      "cell_type": "code",
      "execution_count": null,
      "metadata": {
        "id": "M8p37WYaojuK"
      },
      "outputs": [],
      "source": [
        "test_dataset = torchvision.datasets.MNIST(root='data', \n",
        "                                           train=False, \n",
        "                                           transform=transforms.ToTensor(),download=True)\n",
        "\n",
        "test_loader = torch.utils.data.DataLoader(dataset=test_dataset, \n",
        "                                           batch_size=batch_size, shuffle=True)"
      ]
    },
    {
      "cell_type": "markdown",
      "metadata": {
        "id": "RZvmkJJfojuK"
      },
      "source": [
        "##### Display samples"
      ]
    },
    {
      "cell_type": "code",
      "execution_count": null,
      "metadata": {
        "id": "bYqXb45qojuK",
        "colab": {
          "base_uri": "https://localhost:8080/",
          "height": 282
        },
        "outputId": "76f6db57-dbe1-4728-8e46-41e3c90b0b16"
      },
      "outputs": [
        {
          "output_type": "stream",
          "name": "stdout",
          "text": [
            "8\n"
          ]
        },
        {
          "output_type": "display_data",
          "data": {
            "text/plain": [
              "<Figure size 432x288 with 1 Axes>"
            ],
            "image/png": "[encoded data removed]"
          },
          "metadata": {
            "needs_background": "light"
          }
        }
      ],
      "source": [
        "import matplotlib.pyplot as plt\n",
        "\n",
        "for images, labels in train_loader:\n",
        "    print(labels[0].item())\n",
        " \n",
        "    plt.imshow(images[0].reshape((28,28)))\n",
        "    break"
      ]
    },
    {
      "cell_type": "code",
      "execution_count": null,
      "metadata": {
        "id": "_GtmX8_BojuK"
      },
      "outputs": [],
      "source": [
        "model = NeuralNet(input_size, hidden_size, num_classes)"
      ]
    },
    {
      "cell_type": "code",
      "execution_count": null,
      "metadata": {
        "id": "o3310FLYojuK"
      },
      "outputs": [],
      "source": [
        "criterion = nn.CrossEntropyLoss()\n",
        "optimizer = torch.optim.Adam(model.parameters(), lr=learning_rate) "
      ]
    },
    {
      "cell_type": "markdown",
      "metadata": {
        "id": "xX4F-1Q7ojuK"
      },
      "source": [
        "### Train the model"
      ]
    },
    {
      "cell_type": "code",
      "execution_count": null,
      "metadata": {
        "id": "sTaWc_nlojuK",
        "colab": {
          "base_uri": "https://localhost:8080/"
        },
        "outputId": "9f3bcf1b-e12e-4ad2-b992-7785f397cbee"
      },
      "outputs": [
        {
          "output_type": "stream",
          "name": "stderr",
          "text": [
            "<ipython-input-101-01f13d7e8f67>:16: UserWarning: Implicit dimension choice for softmax has been deprecated. Change the call to include dim=X as an argument.\n",
            "  out = self.output(out)\n"
          ]
        },
        {
          "output_type": "stream",
          "name": "stdout",
          "text": [
            "Epoch [1/5], Step [100/300], Loss: 1.7953\n",
            "Epoch [1/5], Step [200/300], Loss: 1.6492\n",
            "Epoch [1/5], Step [300/300], Loss: 1.6126\n",
            "Epoch [2/5], Step [100/300], Loss: 1.6362\n",
            "Epoch [2/5], Step [200/300], Loss: 1.6236\n",
            "Epoch [2/5], Step [300/300], Loss: 1.5781\n",
            "Epoch [3/5], Step [100/300], Loss: 1.5506\n",
            "Epoch [3/5], Step [200/300], Loss: 1.5442\n",
            "Epoch [3/5], Step [300/300], Loss: 1.5246\n",
            "Epoch [4/5], Step [100/300], Loss: 1.5273\n",
            "Epoch [4/5], Step [200/300], Loss: 1.5024\n",
            "Epoch [4/5], Step [300/300], Loss: 1.5006\n",
            "Epoch [5/5], Step [100/300], Loss: 1.5171\n",
            "Epoch [5/5], Step [200/300], Loss: 1.5337\n",
            "Epoch [5/5], Step [300/300], Loss: 1.5053\n"
          ]
        }
      ],
      "source": [
        "total_step = len(train_loader)\n",
        "for epoch in range(num_epochs):\n",
        "    for i, (images, labels) in enumerate(train_loader):  \n",
        "        # Reconfigure the images into a 1D vector (actually, (X,1) tensor)\n",
        "        images = images.view(images.size(0), -1)\n",
        "        optimizer.zero_grad()\n",
        "        outputs = model(images)\n",
        "        loss = criterion(outputs, labels)\n",
        "        loss.backward()\n",
        "        optimizer.step()\n",
        "        # display the progress\n",
        "        if (i+1) % 100 == 0:\n",
        "            print ('Epoch [{}/{}], Step [{}/{}], Loss: {:.4f}' .format(epoch+1, num_epochs, i+1, total_step, loss.item()))\n",
        "        "
      ]
    },
    {
      "cell_type": "markdown",
      "metadata": {
        "id": "d70gxq_DojuL"
      },
      "source": [
        "#### Taking 4 samples from the test set \n",
        "- display the image\n",
        "- print the true label\n",
        "- print the output probability distribution\n",
        "- print the predicted class"
      ]
    },
    {
      "cell_type": "code",
      "execution_count": null,
      "metadata": {
        "id": "I0jzMypSojuL",
        "colab": {
          "base_uri": "https://localhost:8080/"
        },
        "outputId": "d0b508ce-cdcb-45b1-86e7-99c102531920"
      },
      "outputs": [
        {
          "output_type": "stream",
          "name": "stderr",
          "text": [
            "<ipython-input-101-01f13d7e8f67>:16: UserWarning: Implicit dimension choice for softmax has been deprecated. Change the call to include dim=X as an argument.\n",
            "  out = self.output(out)\n"
          ]
        },
        {
          "output_type": "stream",
          "name": "stdout",
          "text": [
            "Accuracy of the network is: 95.03 %\n"
          ]
        }
      ],
      "source": [
        "with torch.no_grad():\n",
        "    correct = 0\n",
        "    total = 0\n",
        "    for images, labels in test_loader:\n",
        "        images = images.view(images.size(0), -1)\n",
        "        outputs = model(images)\n",
        "        _, predicted = torch.max(outputs.data, 1)\n",
        "        total += labels.size(0)\n",
        "        correct += (predicted == labels).sum().item()\n",
        "\n",
        "    print('Accuracy of the network is: {} %'.format(100 * correct / total))"
      ]
    },
    {
      "cell_type": "code",
      "source": [
        "images, labels = next(iter(test_loader))\n",
        "\n",
        "# Make predictions on the batch of images\n",
        "with torch.no_grad():\n",
        "    # Reshape the images into a 1D vector\n",
        "    images = images.view(images.size(0), -1)\n",
        "    \n",
        "    # Forward propagate the images through the model\n",
        "    outputs = model(images)\n",
        "    \n",
        "    # Compute the predicted class probabilities and predicted class labels\n",
        "    probs = torch.softmax(outputs, dim=1)\n",
        "    pred_labels = torch.argmax(probs, dim=1)\n",
        "\n",
        "# Loop over the images in the batch\n",
        "for i in range(4):\n",
        "    # Display the image\n",
        "    plt.imshow(images[i].view(28, 28))\n",
        "    plt.show()\n",
        "    \n",
        "    # Print the true label\n",
        "    print('True label:', labels[i].item())\n",
        "    \n",
        "    # Print the output probability distribution\n",
        "    print('Output probabilities:', probs[i])\n",
        "    \n",
        "    # Print the predicted class\n",
        "    print('Predicted class:', pred_labels[i].item())\n"
      ],
      "metadata": {
        "colab": {
          "base_uri": "https://localhost:8080/",
          "height": 1000
        },
        "id": "1nI0f5uiYbAu",
        "outputId": "99af5e05-3a2b-4999-86b0-e75d6bd0bcee"
      },
      "execution_count": null,
      "outputs": [
        {
          "output_type": "stream",
          "name": "stderr",
          "text": [
            "<ipython-input-101-01f13d7e8f67>:16: UserWarning: Implicit dimension choice for softmax has been deprecated. Change the call to include dim=X as an argument.\n",
            "  out = self.output(out)\n"
          ]
        },
        {
          "output_type": "display_data",
          "data": {
            "text/plain": [
              "<Figure size 432x288 with 1 Axes>"
            ],
            "image/png": "[encoded data removed]"
          },
          "metadata": {
            "needs_background": "light"
          }
        },
        {
          "output_type": "stream",
          "name": "stdout",
          "text": [
            "True label: 8\n",
            "Output probabilities: tensor([0.0853, 0.0853, 0.0853, 0.0853, 0.0853, 0.0853, 0.0853, 0.0853, 0.2320,\n",
            "        0.0853])\n",
            "Predicted class: 8\n"
          ]
        },
        {
          "output_type": "display_data",
          "data": {
            "text/plain": [
              "<Figure size 432x288 with 1 Axes>"
            ],
            "image/png": "[encoded data removed]"
          },
          "metadata": {
            "needs_background": "light"
          }
        },
        {
          "output_type": "stream",
          "name": "stdout",
          "text": [
            "True label: 4\n",
            "Output probabilities: tensor([0.0864, 0.0864, 0.0864, 0.0864, 0.2141, 0.0864, 0.0866, 0.0865, 0.0864,\n",
            "        0.0944])\n",
            "Predicted class: 4\n"
          ]
        },
        {
          "output_type": "display_data",
          "data": {
            "text/plain": [
              "<Figure size 432x288 with 1 Axes>"
            ],
            "image/png": "[encoded data removed]"
          },
          "metadata": {
            "needs_background": "light"
          }
        },
        {
          "output_type": "stream",
          "name": "stdout",
          "text": [
            "True label: 0\n",
            "Output probabilities: tensor([0.2319, 0.0853, 0.0853, 0.0853, 0.0853, 0.0854, 0.0853, 0.0853, 0.0853,\n",
            "        0.0853])\n",
            "Predicted class: 0\n"
          ]
        },
        {
          "output_type": "display_data",
          "data": {
            "text/plain": [
              "<Figure size 432x288 with 1 Axes>"
            ],
            "image/png": "[encoded data removed]"
          },
          "metadata": {
            "needs_background": "light"
          }
        },
        {
          "output_type": "stream",
          "name": "stdout",
          "text": [
            "True label: 7\n",
            "Output probabilities: tensor([0.0853, 0.0853, 0.0853, 0.0853, 0.0853, 0.0853, 0.0853, 0.2320, 0.0853,\n",
            "        0.0853])\n",
            "Predicted class: 7\n"
          ]
        }
      ]
    },
    {
      "cell_type": "code",
      "source": [
        "from prettytable import PrettyTable\n",
        "\n",
        "# Create a table object with column names\n",
        "table = PrettyTable()\n",
        "table.field_names = [\"Experiment\",\"Total Layers\", \"Units per Layer\",  \"Dropout\", \"Optimizer\", \"Learning Rate\", \"Batch Size\", \"Num of epoches\",\"Test Accuracy\"]\n",
        "\n",
        "# Add rows to the table\n",
        "table.add_row([\"1\", \"2\", \"500\",  \"-\", \"Adam\", \"0.001\", \"150\",\"5\", \"95.41%\"])\n",
        "table.add_row([\"2\", \"2\", \"500\", \"-\", \"RMSProp\", \"0.001\", \"150\", \"5\", \"95.6%\"])\n",
        "table.add_row([\"3\", \"2\", \"500\", \"0.25\", \"Adam\", \"0.001\", \"150\",\"5\", \"95.1%\"])\n",
        "table.add_row([\"4\", \"2\", \"500\",  \"0.25\", \"RMSProp\", \"0.001\", \"150\",\"5\", \"95.45%\"])\n",
        "table.add_row([\"5\", \"2\", \"500\", \"0.25\", \"RMSProp\", \"0.010\", \"150\",\"5\", \"48.1%\"])\n",
        "table.add_row([\"6\", \"2\", \"500\",  \"0.25\", \"Adam\", \"0.010\", \"150\",\"5\", \"48.3%\"])\n",
        "table.add_row([\"7\", \"2\", \"550\", \"0.20\", \"RMSProp\", \"0.0010\", \"200\",\"5\", \"95.35%\"])\n",
        "table.add_row([\"8\", \"2\", \"550\", \"0.25\", \"Adam\", \"0.0010\", \"200\",\"5\", \"95.01%\"])\n",
        "table.add_row([\"9\", \"2\", \"550\", \"0.20\", \"Adam\", \"0.0010\", \"200\",\"10\", \"96.44%\"])\n",
        "table.add_row([\"10\", \"2\", \"600\", \"0.20\", \"SGD\", \"0.0020\", \"128\",\"5\", \"11.35%\"])\n",
        "# Print the table\n",
        "print(table)\n"
      ],
      "metadata": {
        "colab": {
          "base_uri": "https://localhost:8080/"
        },
        "id": "R65TxSarszG-",
        "outputId": "3d743a2e-963d-4535-a6f4-5104f6d91c19"
      },
      "execution_count": null,
      "outputs": [
        {
          "output_type": "stream",
          "name": "stdout",
          "text": [
            "+------------+--------------+-----------------+---------+-----------+---------------+------------+----------------+---------------+\n",
            "| Experiment | Total Layers | Units per Layer | Dropout | Optimizer | Learning Rate | Batch Size | Num of epoches | Test Accuracy |\n",
            "+------------+--------------+-----------------+---------+-----------+---------------+------------+----------------+---------------+\n",
            "|     1      |      2       |       500       |    -    |    Adam   |     0.001     |    150     |       5        |     95.41%    |\n",
            "|     2      |      2       |       500       |    -    |  RMSProp  |     0.001     |    150     |       5        |     95.6%     |\n",
            "|     3      |      2       |       500       |   0.25  |    Adam   |     0.001     |    150     |       5        |     95.1%     |\n",
            "|     4      |      2       |       500       |   0.25  |  RMSProp  |     0.001     |    150     |       5        |     95.45%    |\n",
            "|     5      |      2       |       500       |   0.25  |  RMSProp  |     0.010     |    150     |       5        |     48.1%     |\n",
            "|     6      |      2       |       500       |   0.25  |    Adam   |     0.010     |    150     |       5        |     48.3%     |\n",
            "|     7      |      2       |       550       |   0.20  |  RMSProp  |     0.0010    |    200     |       5        |     95.35%    |\n",
            "|     8      |      2       |       550       |   0.25  |    Adam   |     0.0010    |    200     |       5        |     95.01%    |\n",
            "|     9      |      2       |       550       |   0.20  |    Adam   |     0.0010    |    200     |       10       |     96.44%    |\n",
            "|     10     |      2       |       600       |   0.20  |    SGD    |     0.0020    |    128     |       5        |     11.35%    |\n",
            "+------------+--------------+-----------------+---------+-----------+---------------+------------+----------------+---------------+\n"
          ]
        }
      ]
    },
    {
      "cell_type": "markdown",
      "metadata": {
        "collapsed": true,
        "id": "zGhgw8KFojuL"
      },
      "source": [
        "\n",
        "\n"
      ]
    }
  ],
  "metadata": {
    "kernelspec": {
      "display_name": "Python 3",
      "language": "python",
      "name": "python3"
    },
    "language_info": {
      "codemirror_mode": {
        "name": "ipython",
        "version": 3
      },
      "file_extension": ".py",
      "mimetype": "text/x-python",
      "name": "python",
      "nbconvert_exporter": "python",
      "pygments_lexer": "ipython3",
      "version": "3.7.6"
    },
    "colab": {
      "provenance": []
    }
  },
  "nbformat": 4,
  "nbformat_minor": 0
}